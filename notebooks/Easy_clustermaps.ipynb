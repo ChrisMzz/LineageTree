{
 "cells": [
  {
   "cell_type": "markdown",
   "metadata": {},
   "source": [
    "# **Notebook for creating clustermaps from lineageTree data**"
   ]
  },
  {
   "cell_type": "markdown",
   "metadata": {},
   "source": [
    "Importing important packages"
   ]
  },
  {
   "cell_type": "code",
   "execution_count": null,
   "metadata": {},
   "outputs": [],
   "source": [
    "from LineageTree import lineageTree, lineageTreeManager\n",
    "from scipy.cluster.hierarchy import linkage\n",
    "from scipy.spatial.distance import squareform\n",
    "import seaborn as sns\n",
    "import matplotlib.pyplot as plt\n",
    "from itertools import combinations\n",
    "import numpy as np"
   ]
  },
  {
   "cell_type": "markdown",
   "metadata": {},
   "source": [
    "Load the manager"
   ]
  },
  {
   "cell_type": "code",
   "execution_count": 2,
   "metadata": {},
   "outputs": [],
   "source": [
    "\n",
    "\n",
    "lT1 = lineageTree.load(\"path_to_lt/lt.lT\")\n",
    "lT2 = lineageTree.load(\"path_to_lt2/lt2.lT\")\n",
    "lTm = lineageTreeManager.LineageTreeManager()\n",
    "lTm.add(lT1)\n",
    "lTm.add(lT2)\n",
    "\n",
    "### Or load a ready manager###\n",
    "\n",
    "lTm = lineageTreeManager.LineageTreeManager.load(\"path_to/Manager.ltM\")\n"
   ]
  },
  {
   "cell_type": "code",
   "execution_count": 3,
   "metadata": {},
   "outputs": [
    {
     "data": {
      "text/plain": [
       "{'just_orient_Points': <LineageTree.lineageTree.lineageTree at 0x7760a61cc7d0>,\n",
       " 'demo2': <LineageTree.lineageTree.lineageTree at 0x77607d228c10>,\n",
       " 'demo1': <LineageTree.lineageTree.lineageTree at 0x7760856ee050>}"
      ]
     },
     "execution_count": 3,
     "metadata": {},
     "output_type": "execute_result"
    }
   ],
   "source": [
    "lTm.lineagetrees.keys() "
   ]
  },
  {
   "cell_type": "markdown",
   "metadata": {},
   "source": [
    "Labels can and should be changed"
   ]
  },
  {
   "cell_type": "code",
   "execution_count": 20,
   "metadata": {},
   "outputs": [],
   "source": [
    "lTm.lineagetrees[\"sample_lT\"].labels\n",
    "lTm.lineagetrees[\"sample_lT\"].labels[id] = \"name of labels\""
   ]
  },
  {
   "cell_type": "markdown",
   "metadata": {},
   "source": [
    "### Select only labeled roots (Next 2 cells can be replaced by just making a list of ids)"
   ]
  },
  {
   "cell_type": "code",
   "execution_count": 5,
   "metadata": {},
   "outputs": [
    {
     "data": {
      "text/plain": [
       "{'just_orient_Points': [0, 3, 12469, 233, 311, 372, 10696, 6729],\n",
       " 'demo2': [176, 29345, 38764],\n",
       " 'demo1': [473, 29653, 52343]}"
      ]
     },
     "execution_count": 5,
     "metadata": {},
     "output_type": "execute_result"
    }
   ],
   "source": [
    "roots = {}\n",
    "for lt in lTm.lineagetrees:\n",
    "    for root in lTm.lineagetrees[lt].labels:\n",
    "        if lTm.lineagetrees[lt].labels[root]!=\"Unlabeled\" and lTm.lineagetrees[lt].time[root]==0:\n",
    "            roots.setdefault(lt, []).append(root)\n",
    "roots"
   ]
  },
  {
   "cell_type": "code",
   "execution_count": 14,
   "metadata": {},
   "outputs": [],
   "source": [
    "time = 0 # Select a specific time point\n",
    "comparisons = {}\n",
    "names = {}\n",
    "all_roots = [\n",
    "    (\n",
    "        lt,\n",
    "        selected_root,\n",
    "        int(node),\n",
    "    )\n",
    "    for lt in roots\n",
    "    for node in roots[lt]\n",
    "    for selected_root in lTm.lineagetrees[\n",
    "        lt\n",
    "    ].get_cells_at_t_from_root(int(node), time)\n",
    "]\n",
    "names = dict(enumerate(all_roots))\n",
    "combs = combinations(names, 2)\n"
   ]
  },
  {
   "cell_type": "markdown",
   "metadata": {},
   "source": [
    "# Otherwise create a list that contains tuples: \n",
    "[(\"name_of_lT\", node, root),\\\n",
    "(\"name_of_lT\", node, root),\\\n",
    "(\"name_of_lT\", node, root),\\\n",
    "(\"name_of_lT\", node, root),\\\n",
    "....]"
   ]
  },
  {
   "cell_type": "markdown",
   "metadata": {},
   "source": [
    "### Comparison calculation"
   ]
  },
  {
   "cell_type": "code",
   "execution_count": 16,
   "metadata": {},
   "outputs": [],
   "source": [
    "comparison = {}\n",
    "for i, (n1,n2) in enumerate(combs):\n",
    "    comparison[n1,n2] = lTm.cross_lineage_edit_distance(\n",
    "                    names[n1][1],\n",
    "                    names[n2][0],\n",
    "                    500,\n",
    "                    names[n2][1],\n",
    "                    names[n2][0],\n",
    "                    200,\n",
    "                    style = \"mini\" # Best style option for speed and accuracy is \"fragmented\"\n",
    "                )"
   ]
  },
  {
   "cell_type": "markdown",
   "metadata": {},
   "source": [
    "### Calculation of the hierarchy clustermap"
   ]
  },
  {
   "cell_type": "code",
   "execution_count": 17,
   "metadata": {},
   "outputs": [],
   "source": [
    "combs = combinations(names,2)\n",
    "labels = [node[0][:-6]+\"_\"+lTm.lineagetrees[node[0]].labels[lTm.lineagetrees[node[0]].get_labelled_ancestor(node[1])] for node in names.values()]\n",
    "hierarchy = np.zeros((len(names),len(names)))\n",
    "keys = comparison.keys()\n",
    "values = comparison.values()\n",
    "for (keys,values) in  combs:\n",
    "    hierarchy[keys, values] = comparison[(keys, values)]\n",
    "    hierarchy[values, keys] = comparison[(keys, values)]\n",
    "condensed_dist_matrix = squareform(hierarchy)\n",
    "linkage_data = linkage(condensed_dist_matrix, method=\"ward\")\n"
   ]
  },
  {
   "cell_type": "code",
   "execution_count": null,
   "metadata": {},
   "outputs": [],
   "source": [
    "\n",
    "\n",
    "sns.set(rc={'figure.figsize':(30,30)}, font_scale=0.1)\n",
    "\n",
    "sns.set_context(\"poster\")\n",
    "\n",
    "g = sns.clustermap(hierarchy,\n",
    "            xticklabels=[label for label in labels],\n",
    "            yticklabels=[label for label in labels],\n",
    "            cmap=\"viridis\",\n",
    "            row_linkage=linkage_data,\n",
    "            col_linkage=linkage_data,\n",
    "            annot = True,\n",
    "            annot_kws={\"size\":10}\n",
    "            )\n",
    "\n",
    "plt.setp(g.ax_heatmap.yaxis.get_majorticklabels(), color='white')\n",
    "plt.setp(g.ax_heatmap.xaxis.get_majorticklabels(), color='white')\n",
    "\n",
    "g.ax_heatmap.set_facecolor('black')\n",
    "g.ax_row_dendrogram.set_facecolor('black')\n",
    "g.ax_col_dendrogram.set_facecolor('black')\n",
    "\n",
    "g.ax_heatmap.tick_params(axis='both', colors='white')\n",
    "\n",
    "for tree in g.ax_row_dendrogram.collections:\n",
    "    tree.set_color(\"white\")\n",
    "for tree in g.ax_col_dendrogram.collections:\n",
    "    tree.set_color(\"white\")\n",
    "\n",
    "g.fig.patch.set_facecolor('black')\n",
    "\n",
    "colorbar = g.cax\n",
    "colorbar.set_facecolor('black')\n",
    "colorbar.tick_params(colors='white')\n",
    "colorbar.yaxis.set_tick_params(color='white')\n",
    "\n",
    "colorbar.yaxis.label.set_color('white')\n",
    "\n",
    "\n",
    "g.fig.patch.set_alpha(0.0)\n",
    "\n",
    "g.ax_heatmap.patch.set_alpha(0.0)\n",
    "g.ax_row_dendrogram.patch.set_alpha(0.0)\n",
    "g.ax_col_dendrogram.patch.set_alpha(0.0)\n",
    "colorbar.patch.set_alpha(0.0)\n",
    "plt.show()\n"
   ]
  }
 ],
 "metadata": {
  "kernelspec": {
   "display_name": "napari",
   "language": "python",
   "name": "python3"
  },
  "language_info": {
   "codemirror_mode": {
    "name": "ipython",
    "version": 3
   },
   "file_extension": ".py",
   "mimetype": "text/x-python",
   "name": "python",
   "nbconvert_exporter": "python",
   "pygments_lexer": "ipython3",
   "version": "3.11.7"
  }
 },
 "nbformat": 4,
 "nbformat_minor": 2
}
